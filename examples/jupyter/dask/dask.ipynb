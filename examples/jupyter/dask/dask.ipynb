{
 "cells": [
  {
   "cell_type": "code",
   "execution_count": 6,
   "id": "631dafcc",
   "metadata": {},
   "outputs": [
    {
     "name": "stderr",
     "output_type": "stream",
     "text": [
      "/contrib/Alvaro.Vidal/miniconda3/envs/dask/lib/python3.11/site-packages/dask_jobqueue/core.py:293: FutureWarning: header_skip has been renamed to job_directives_skip. You are still using it (even if only set to []; please also check config files). If you did not set job_directives_skip yet, header_skip will be respected for now, but it will be removed in a future release. If you already set job_directives_skip, header_skip is ignored and you can remove it.\n",
      "  warnings.warn(warn, FutureWarning)\n",
      "/contrib/Alvaro.Vidal/miniconda3/envs/dask/lib/python3.11/site-packages/distributed/node.py:182: UserWarning: Port 8787 is already in use.\n",
      "Perhaps you already have a cluster running?\n",
      "Hosting the HTTP server on port 37905 instead\n",
      "  warnings.warn(\n"
     ]
    }
   ],
   "source": [
    "import dask.array as da  # Import Dask\n",
    "from dask.distributed import Client\n",
    "from dask_jobqueue import SLURMCluster\n",
    "     \n",
    "# Define SLURM cluster configuration\n",
    "cluster = SLURMCluster(\n",
    "    queue=\"compute\",\n",
    "    cores=2,  # Number of CPU cores per worker\n",
    "    memory=\"8GB\",  # Memory per worker\n",
    "    header_skip=['--mem'], # Adding this argument allows Dask to ignore the memory parameter\n",
    "\n",
    ")\n",
    "\n",
    "# Scale the cluster to a desired number of workers\n",
    "cluster.adapt(minimum = 0, maximum = 4)  # Scale to 4 workers\n",
    "\n",
    "# Connect a Dask client to the cluster\n",
    "client = Client(cluster)\n"
   ]
  },
  {
   "cell_type": "code",
   "execution_count": 7,
   "id": "d3b15330",
   "metadata": {},
   "outputs": [
    {
     "name": "stderr",
     "output_type": "stream",
     "text": [
      "/contrib/Alvaro.Vidal/miniconda3/envs/dask/lib/python3.11/site-packages/dask_jobqueue/core.py:293: FutureWarning: header_skip has been renamed to job_directives_skip. You are still using it (even if only set to []; please also check config files). If you did not set job_directives_skip yet, header_skip will be respected for now, but it will be removed in a future release. If you already set job_directives_skip, header_skip is ignored and you can remove it.\n",
      "  warnings.warn(warn, FutureWarning)\n",
      "/contrib/Alvaro.Vidal/miniconda3/envs/dask/lib/python3.11/site-packages/dask_jobqueue/core.py:293: FutureWarning: header_skip has been renamed to job_directives_skip. You are still using it (even if only set to []; please also check config files). If you did not set job_directives_skip yet, header_skip will be respected for now, but it will be removed in a future release. If you already set job_directives_skip, header_skip is ignored and you can remove it.\n",
      "  warnings.warn(warn, FutureWarning)\n"
     ]
    },
    {
     "name": "stdout",
     "output_type": "stream",
     "text": [
      "Result: 2000000.0\n"
     ]
    }
   ],
   "source": [
    "\n",
    "# Define a simple Dask computation (e.g., parallelized addition)\n",
    "def add(a, b):\n",
    "    return a + b\n",
    "\n",
    "# Create Dask arrays for your computation\n",
    "x = da.ones(1000000, chunks=10000)\n",
    "y = da.ones(1000000, chunks=10000)\n",
    "\n",
    "# Perform the computation using Dask\n",
    "result = add(x, y).sum()\n",
    "\n",
    "# Compute the result and retrieve the value\n",
    "result_value = result.compute()\n",
    "\n",
    "# Print the result\n",
    "print(\"Result:\", result_value)\n",
    "\n",
    "# Close the Dask client and cluster when done\n",
    "client.close()\n",
    "cluster.close()"
   ]
  },
  {
   "cell_type": "code",
   "execution_count": null,
   "id": "a34c5dba",
   "metadata": {},
   "outputs": [],
   "source": []
  }
 ],
 "metadata": {
  "kernelspec": {
   "display_name": "Python [conda env:dask] *",
   "language": "python",
   "name": "conda-env-dask-py"
  },
  "language_info": {
   "codemirror_mode": {
    "name": "ipython",
    "version": 3
   },
   "file_extension": ".py",
   "mimetype": "text/x-python",
   "name": "python",
   "nbconvert_exporter": "python",
   "pygments_lexer": "ipython3",
   "version": "3.11.5"
  }
 },
 "nbformat": 4,
 "nbformat_minor": 5
}
